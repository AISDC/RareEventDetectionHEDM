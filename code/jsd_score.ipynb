{
 "cells": [
  {
   "cell_type": "code",
   "execution_count": 1,
   "metadata": {},
   "outputs": [],
   "source": [
    "import csv"
   ]
  },
  {
   "cell_type": "code",
   "execution_count": 2,
   "metadata": {},
   "outputs": [],
   "source": [
    "import numpy as np\n",
    "from scipy.spatial import distance"
   ]
  },
  {
   "cell_type": "code",
   "execution_count": 3,
   "metadata": {},
   "outputs": [],
   "source": [
    "dist         = []\n",
    "uqResults    = []\n",
    "datasetsList = []"
   ]
  },
  {
   "cell_type": "code",
   "execution_count": 4,
   "metadata": {},
   "outputs": [],
   "source": [
    "rowNumber = 0\n",
    "with open('dist_data/hurley_feb23_dist_crab_th03.csv', newline='') as csvfile:\n",
    "    spamreader = csv.reader(csvfile, delimiter=' ', quotechar='|')\n",
    "    for row in spamreader:\n",
    "        if rowNumber >= 1:\n",
    "            distriTemp = []\n",
    "            #print(row[0])\n",
    "            x = row[0].split(\",\")\n",
    "            for i in range(len(x)-2):\n",
    "                distriTemp.append(float(x[i]))\n",
    "            uqResults.append(float(x[-2]))\n",
    "            dist.append(distriTemp)\n",
    "            datasetsList.append(x[-1])\n",
    "        rowNumber += 1"
   ]
  },
  {
   "cell_type": "code",
   "execution_count": 5,
   "metadata": {},
   "outputs": [],
   "source": [
    "jsdResults  = []\n",
    "jsdIdxDict  = {}\n",
    "uqIdxDict   = {}\n",
    "nameIdxDict = {}\n",
    "presDict    = {}\n",
    "\n",
    "baseDist = dist[0]\n",
    "baselineScanIdx = 82\n",
    "\n",
    "for i in range(len(dist)):\n",
    "    resultTmp = distance.jensenshannon(np.array(baseDist), np.array(dist[i]))\n",
    "    jsdResults.append(resultTmp)\n",
    "    if resultTmp == 0:\n",
    "        tmpIdx = baselineScanIdx\n",
    "    else: \n",
    "        tmpIdx = int(datasetsList[i].split(\".\")[0].split(\"_\")[-1])\n",
    "    jsdIdxDict[tmpIdx]  = resultTmp\n",
    "    uqIdxDict[tmpIdx]   = uqResults[i]\n",
    "    nameIdxDict[tmpIdx] = datasetsList[i]\n",
    "    # need to obtain the pressure info:\n",
    "    presDict[tmpIdx] = -10 # this is the adhoc for N.A. pressure\n",
    "    for tmpStr in datasetsList[i].split(\"_\"):\n",
    "#         if 'mpa' in tmpStr.lower():\n",
    "#             presDict[tmpIdx] = int(tmpStr[0:-3])\n",
    "#             break\n",
    "        if tmpStr.lower()[-1] == 'n':\n",
    "            presDict[tmpIdx] = int(tmpStr[0:-1])\n",
    "            break"
   ]
  },
  {
   "cell_type": "code",
   "execution_count": 6,
   "metadata": {},
   "outputs": [
    {
     "data": {
      "text/plain": [
       "{82: -10,\n",
       " 83: -10,\n",
       " 84: -10,\n",
       " 85: -10,\n",
       " 86: -10,\n",
       " 90: 10,\n",
       " 91: 10,\n",
       " 92: 10,\n",
       " 93: 10,\n",
       " 97: 20,\n",
       " 89: 10,\n",
       " 98: 20,\n",
       " 99: 20,\n",
       " 100: 20,\n",
       " 96: 20,\n",
       " 104: 30,\n",
       " 105: 30,\n",
       " 107: 30,\n",
       " 103: 30,\n",
       " 111: 40,\n",
       " 106: 30,\n",
       " 112: 40,\n",
       " 113: 40,\n",
       " 118: 50,\n",
       " 110: 40,\n",
       " 114: 40,\n",
       " 119: 50,\n",
       " 120: 50,\n",
       " 121: 50,\n",
       " 125: 70,\n",
       " 117: 50,\n",
       " 126: 70,\n",
       " 127: 70,\n",
       " 128: 70,\n",
       " 132: 90,\n",
       " 124: 70,\n",
       " 133: 90,\n",
       " 134: 90,\n",
       " 135: 90,\n",
       " 131: 90}"
      ]
     },
     "execution_count": 6,
     "metadata": {},
     "output_type": "execute_result"
    }
   ],
   "source": [
    "presDict"
   ]
  },
  {
   "cell_type": "code",
   "execution_count": 7,
   "metadata": {},
   "outputs": [],
   "source": [
    "for key in presDict:\n",
    "    if presDict[key] == -10:\n",
    "        presDict[key] = 0"
   ]
  },
  {
   "cell_type": "code",
   "execution_count": 8,
   "metadata": {},
   "outputs": [
    {
     "data": {
      "text/plain": [
       "{82: 0,\n",
       " 83: 0,\n",
       " 84: 0,\n",
       " 85: 0,\n",
       " 86: 0,\n",
       " 90: 10,\n",
       " 91: 10,\n",
       " 92: 10,\n",
       " 93: 10,\n",
       " 97: 20,\n",
       " 89: 10,\n",
       " 98: 20,\n",
       " 99: 20,\n",
       " 100: 20,\n",
       " 96: 20,\n",
       " 104: 30,\n",
       " 105: 30,\n",
       " 107: 30,\n",
       " 103: 30,\n",
       " 111: 40,\n",
       " 106: 30,\n",
       " 112: 40,\n",
       " 113: 40,\n",
       " 118: 50,\n",
       " 110: 40,\n",
       " 114: 40,\n",
       " 119: 50,\n",
       " 120: 50,\n",
       " 121: 50,\n",
       " 125: 70,\n",
       " 117: 50,\n",
       " 126: 70,\n",
       " 127: 70,\n",
       " 128: 70,\n",
       " 132: 90,\n",
       " 124: 70,\n",
       " 133: 90,\n",
       " 134: 90,\n",
       " 135: 90,\n",
       " 131: 90}"
      ]
     },
     "execution_count": 8,
     "metadata": {},
     "output_type": "execute_result"
    }
   ],
   "source": [
    "presDict"
   ]
  },
  {
   "cell_type": "code",
   "execution_count": 9,
   "metadata": {},
   "outputs": [],
   "source": [
    "sortedJSD  = []\n",
    "sortedIdx  = []\n",
    "sortedName = []\n",
    "sortedUQ   = []\n",
    "sortedPres = []\n",
    "\n",
    "for key in sorted(jsdIdxDict):\n",
    "    sortedIdx.append(key)\n",
    "    sortedJSD.append(jsdIdxDict[key])\n",
    "    sortedUQ.append(uqIdxDict[key])\n",
    "    sortedName.append(nameIdxDict[key])\n",
    "    sortedPres.append(presDict[key])"
   ]
  },
  {
   "cell_type": "code",
   "execution_count": 10,
   "metadata": {},
   "outputs": [
    {
     "data": {
      "text/plain": [
       "[0,\n",
       " 0,\n",
       " 0,\n",
       " 0,\n",
       " 0,\n",
       " 10,\n",
       " 10,\n",
       " 10,\n",
       " 10,\n",
       " 10,\n",
       " 20,\n",
       " 20,\n",
       " 20,\n",
       " 20,\n",
       " 20,\n",
       " 30,\n",
       " 30,\n",
       " 30,\n",
       " 30,\n",
       " 30,\n",
       " 40,\n",
       " 40,\n",
       " 40,\n",
       " 40,\n",
       " 40,\n",
       " 50,\n",
       " 50,\n",
       " 50,\n",
       " 50,\n",
       " 50,\n",
       " 70,\n",
       " 70,\n",
       " 70,\n",
       " 70,\n",
       " 70,\n",
       " 90,\n",
       " 90,\n",
       " 90,\n",
       " 90,\n",
       " 90]"
      ]
     },
     "execution_count": 10,
     "metadata": {},
     "output_type": "execute_result"
    }
   ],
   "source": [
    "sortedPres"
   ]
  },
  {
   "cell_type": "code",
   "execution_count": 11,
   "metadata": {},
   "outputs": [],
   "source": [
    "import matplotlib.pyplot as plt"
   ]
  },
  {
   "cell_type": "code",
   "execution_count": 14,
   "metadata": {},
   "outputs": [
    {
     "data": {
      "image/png": "[encoded data removed]",
      "text/plain": [
       "<Figure size 640x480 with 2 Axes>"
      ]
     },
     "metadata": {},
     "output_type": "display_data"
    }
   ],
   "source": [
    "fig = plt.figure()\n",
    "\n",
    "# plt.plot(sortedIdx, sortedJSD, c=\"green\", label=\"JSD score\")\n",
    "\n",
    "ax1 = plt.subplot()\n",
    "# l1, = ax1.plot(sortedIdx, sortedJSD, c=\"green\", marker='o', markersize=3, linestyle='--', label=\"JSD score\")\n",
    "# ax2 = ax1.twinx()\n",
    "l2, = ax1.plot(sortedIdx, sortedUQ, c=\"green\", marker='^', markersize=3, linestyle='--', label=\"UQ score\")\n",
    "\n",
    "ax3 = ax1.twinx()\n",
    "# ax3.spines.right.set_position((\"axes\", 1.2))\n",
    "\n",
    "l3, = ax3.plot(sortedIdx, sortedPres, c=\"orange\", marker='o', markersize=5, linestyle='--', label=\"Loading (MPa)\")\n",
    "\n",
    "\n",
    "\n",
    "ax1.set_xlabel(\"Scan Idx\", fontsize=12)\n",
    "# ax1.set_ylim(0, 0.7)\n",
    "# ax2.set_ylim(0, 0.7)\n",
    "#ax1.set_ylim(0.3, 0.35)\n",
    "# ax2.set_ylim(0.3, 0.35)\n",
    "# ax1.set_ylabel(\"JSD score\", fontsize=12)\n",
    "ax1.set_ylabel(\"UQ score\", fontsize=12)\n",
    "ax3.set_ylabel(\"Loading (MPa)\", fontsize=12)\n",
    "\n",
    "\n",
    "# plt.legend([l2], [\"UQ score\"])\n",
    "\n",
    "\n",
    "textstr = f'Hurley Feb23 crab dataset, \\nbaseline: scan {baselineScanIdx}'\n",
    "\n",
    "props = dict(boxstyle='square', facecolor='white', alpha=0.3)\n",
    "\n",
    "# place a text box in upper left in axes coords\n",
    "ax1.text(0.03, 0.95, textstr, transform=ax1.transAxes, fontsize=12,\n",
    "        verticalalignment='top', bbox=props)\n",
    "\n",
    "# plt.legend([l1, l2, l3], [\"JSD score\", \"UQ score\", \"Pressure\"], loc='center right')\n",
    "plt.legend([l2, l3], [\"UQ score\", \"Loading (MPa)\"], loc='best', bbox_to_anchor=(0.335, 0.83))\n",
    "#plt.legend(loc='center right')\n",
    "plt.grid()\n",
    "\n",
    "plt.savefig('results_figure/hurley23_crab_dataset_th03.pdf', format='pdf', bbox_inches =\"tight\",\n",
    "            pad_inches = 1)\n",
    "\n",
    "plt.show()"
   ]
  },
  {
   "cell_type": "code",
   "execution_count": null,
   "metadata": {},
   "outputs": [],
   "source": [
    "i = 0\n",
    "\n",
    "with open('jsd_results/jsd4hurleyfeb23dataset_th03.csv', 'w', newline='') as file:\n",
    "    writer = csv.writer(file)\n",
    "    for key in sortedIdx:\n",
    "        tmpRow = []\n",
    "        tmpRow.append(sortedName[i])\n",
    "        tmpRow.append(sortedJSD[i])\n",
    "        tmpRow.append(sortedUQ[i])\n",
    "        i += 1\n",
    "        writer.writerow(tmpRow)"
   ]
  },
  {
   "cell_type": "code",
   "execution_count": null,
   "metadata": {},
   "outputs": [],
   "source": [
    "# create 10 bins of JSD scores: [0, 0.1), [0.2, 0.3) ...\n",
    "\n",
    "binJSDs = []\n",
    "\n",
    "for i in range(10):\n",
    "    binJSDs.append([])\n",
    "\n",
    "i = 0\n",
    "\n",
    "for result in jsdResults:\n",
    "    idx = int(result/0.1)\n",
    "    print(f\"{result} at bin {idx}\")\n",
    "    tmpRow = [datasetsList[i], result]\n",
    "    i += 1\n",
    "    binJSDs[idx].append(tmpRow)"
   ]
  },
  {
   "cell_type": "code",
   "execution_count": null,
   "metadata": {},
   "outputs": [],
   "source": [
    "binJSDs[5]"
   ]
  },
  {
   "cell_type": "code",
   "execution_count": null,
   "metadata": {},
   "outputs": [],
   "source": []
  }
 ],
 "metadata": {
  "kernelspec": {
   "display_name": "Python 3 (ipykernel)",
   "language": "python",
   "name": "python3"
  },
  "language_info": {
   "codemirror_mode": {
    "name": "ipython",
    "version": 3
   },
   "file_extension": ".py",
   "mimetype": "text/x-python",
   "name": "python",
   "nbconvert_exporter": "python",
   "pygments_lexer": "ipython3",
   "version": "3.10.9"
  },
  "vscode": {
   "interpreter": {
    "hash": "08049e36fc518874913096113ec4563d5c439995958d94759532ae6b3e9f1845"
   }
  }
 },
 "nbformat": 4,
 "nbformat_minor": 2
}
