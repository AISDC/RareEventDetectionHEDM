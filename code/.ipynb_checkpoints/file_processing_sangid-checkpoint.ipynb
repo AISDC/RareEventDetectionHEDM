{
 "cells": [
  {
   "cell_type": "code",
   "execution_count": null,
   "id": "bd92d3b9-0d20-4d0d-bc77-36bc3c6560c9",
   "metadata": {},
   "outputs": [],
   "source": [
    "import os\n",
    "\n",
    "dataDir = '/home/beams/S1IDUSER/mnt/s1c/sangid_aug19_data/sangid_aug19/ge3/'\n",
    "\n",
    "listFiles = os.listdir(dataDir)\n",
    "listFiles"
   ]
  },
  {
   "cell_type": "code",
   "execution_count": null,
   "id": "0c4ed98e-0917-44ad-9881-a305e686fd2c",
   "metadata": {},
   "outputs": [],
   "source": [
    "darkFilesList = []\n",
    "darkFilesDict = {}\n",
    "\n",
    "for fileString in listFiles:\n",
    "    if fileString.startswith('dark_before'):\n",
    "        # find the index of each dark before\n",
    "        idx = int(fileString[12:18])\n",
    "        #print(int(fileString[12:18]))\n",
    "        darkFilesDict[idx] = fileString\n",
    "\n",
    "darkFilesDict"
   ]
  },
  {
   "cell_type": "code",
   "execution_count": null,
   "id": "30e394b2-e79d-4235-b7b7-563150e84d68",
   "metadata": {},
   "outputs": [],
   "source": [
    "darkFilesDict"
   ]
  },
  {
   "cell_type": "code",
   "execution_count": null,
   "id": "a0a6f33b-55a6-481b-8241-3518fab1c4f7",
   "metadata": {},
   "outputs": [],
   "source": [
    "darkFilesKeys = sorted(darkFilesDict)\n",
    "darkFilesKeys"
   ]
  },
  {
   "cell_type": "code",
   "execution_count": null,
   "id": "86c68fb7-12b5-49c0-a958-0b59c6a4e949",
   "metadata": {},
   "outputs": [],
   "source": [
    "parkFilesList = []\n",
    "parkFilesDict4Idx = {}\n",
    "\n",
    "# park_ss_ff\n",
    "\n",
    "for fileString in listFiles:\n",
    "    if fileString.startswith('lshr'):\n",
    "        # find the index of each file\n",
    "        x = fileString.split(\"_\")\n",
    "        idx = int(x[-1].split(\".\")[0])\n",
    "        parkFilesDict4Idx[fileString] = idx\n",
    "#         idx = int(fileString[12:18])\n",
    "#         #print(int(fileString[12:18]))\n",
    "#         darkFilesDict[idx] = fileString\n",
    "#         darkFiles.append(fileString)\n",
    "\n",
    "# \n",
    "parkFilesDict4Idx "
   ]
  },
  {
   "cell_type": "code",
   "execution_count": null,
   "id": "e18038f8-34ff-471d-b25b-1603a5161f6d",
   "metadata": {},
   "outputs": [],
   "source": [
    "# next is to find the dark files for each file\n",
    "darkFilesDict4Idx = {}\n",
    "\n",
    "# park_ss_ff\n",
    "\n",
    "for fileString in listFiles:\n",
    "    if fileString.startswith('lshr_'):\n",
    "        # find the index of each file\n",
    "        x = fileString.split(\"_\")\n",
    "        idx = int(x[-1].split(\".\")[0])\n",
    "        # next is to find the corresponding dark file\n",
    "        for darkKey in darkFilesKeys:\n",
    "            if darkKey >= idx:\n",
    "                print(str(idx) + \"-\" + str(darkKey))\n",
    "                darkFilesDict4Idx[fileString] = darkFilesDict[darkKey]\n",
    "                break\n",
    "\n",
    "darkFilesDict4Idx"
   ]
  },
  {
   "cell_type": "code",
   "execution_count": null,
   "id": "9e803e4f-a1d8-4b28-82b0-3d064b02e52b",
   "metadata": {},
   "outputs": [],
   "source": [
    "len(darkFilesDict4Idx)"
   ]
  },
  {
   "cell_type": "code",
   "execution_count": null,
   "id": "dade5fab-e33b-479c-aea6-20fbbdfa0b9e",
   "metadata": {},
   "outputs": [],
   "source": [
    "# now start to convert ge5 files to patches\n",
    "from src.datasets.ge2patch import *"
   ]
  },
  {
   "cell_type": "code",
   "execution_count": null,
   "id": "deb64b18-84c7-4d84-ac74-c9bdb6bab9b3",
   "metadata": {},
   "outputs": [],
   "source": [
    "outDir = '../sangid_patch_dir/'\n",
    "\n",
    "i = 1\n",
    "\n",
    "for key in darkFilesDict4Idx:\n",
    "    print(f\"Reading dark file from {dataDir+darkFilesDict4Idx[key]} ... \")\n",
    "    dark = ge_raw2array(dataDir+darkFilesDict4Idx[key], skip_frm=0).mean(axis=0).astype(np.float32)\n",
    "    print(f\"Done with reading dark file from {dataDir+darkFilesDict4Idx[key]} with {dark}\")\n",
    "    print(f\"The input file is {key}\")\n",
    "    outFile = outDir + key[:-3] + \"h5\"\n",
    "    print(f\"The output file is {outFile}\")\n",
    "    print(f\"Start to generate patches for file {key} ({i}/{len(darkFilesDict4Idx)})...\")\n",
    "    ge_raw2patch(gefname=dataDir+key, ofn=outFile, dark=dark, \n",
    "                 bkgd=100, psz=15, skip_frm=0, min_intensity=0, max_r=None)\n",
    "    print(f\"Done generating patches for file {key} ({i}/{len(darkFilesDict4Idx)})...\")\n",
    "    i += 1"
   ]
  },
  {
   "cell_type": "code",
   "execution_count": null,
   "id": "21b17572-dd86-45f1-ae3a-1f990bee54c2",
   "metadata": {},
   "outputs": [],
   "source": []
  },
  {
   "cell_type": "code",
   "execution_count": null,
   "id": "d8224414-83b2-4465-9748-58e4fec10a08",
   "metadata": {},
   "outputs": [],
   "source": []
  },
  {
   "cell_type": "code",
   "execution_count": null,
   "id": "d2e3cf58-f8aa-4e5b-bf2a-3169f2de8503",
   "metadata": {},
   "outputs": [],
   "source": []
  },
  {
   "cell_type": "code",
   "execution_count": null,
   "id": "3ddb1dfc-5651-4a4c-8037-9570d9c0b397",
   "metadata": {},
   "outputs": [],
   "source": []
  }
 ],
 "metadata": {
  "kernelspec": {
   "display_name": "Python 3 (ipykernel)",
   "language": "python",
   "name": "python3"
  },
  "language_info": {
   "codemirror_mode": {
    "name": "ipython",
    "version": 3
   },
   "file_extension": ".py",
   "mimetype": "text/x-python",
   "name": "python",
   "nbconvert_exporter": "python",
   "pygments_lexer": "ipython3",
   "version": "3.9.17"
  }
 },
 "nbformat": 4,
 "nbformat_minor": 5
}
