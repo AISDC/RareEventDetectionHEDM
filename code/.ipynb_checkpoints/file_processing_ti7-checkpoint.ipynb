{
 "cells": [
  {
   "cell_type": "code",
   "execution_count": null,
   "id": "639a3cda-29e5-4e0d-ad41-b3e6e39d6737",
   "metadata": {},
   "outputs": [],
   "source": [
    "import os\n",
    "\n",
    "dataDir = '/home/beams/S1IDUSER/mnt/orthros/PUP_AFRL_Dec14_data/GE'\n",
    "\n",
    "listFiles = os.listdir(dataDir)\n",
    "listFiles"
   ]
  },
  {
   "cell_type": "code",
   "execution_count": null,
   "id": "d1906406-255c-4261-88cd-c385d8ecbe40",
   "metadata": {},
   "outputs": [],
   "source": [
    "ti7FilesList = []\n",
    "ti7FilesDict4Idx = {}\n",
    "\n",
    "for fileString in listFiles:\n",
    "    if fileString.startswith('Ti7_23_'):\n",
    "        # find the index of each file\n",
    "        x = fileString.split(\"_\")\n",
    "        idx = int(x[-1].split(\".\")[0])\n",
    "        ti7FilesDict4Idx[fileString] = idx\n",
    "#         idx = int(fileString[12:18])\n",
    "#         #print(int(fileString[12:18]))\n",
    "#         darkFilesDict[idx] = fileString\n",
    "#         darkFiles.append(fileString)\n",
    "\n",
    "# \n",
    "ti7FilesDict4Idx "
   ]
  },
  {
   "cell_type": "code",
   "execution_count": null,
   "id": "f58dcedb-60d0-447b-8f79-6091a36a3cb8",
   "metadata": {},
   "outputs": [],
   "source": [
    "# now start to convert ge5 files to patches\n",
    "from src.datasets.ge2patch import *"
   ]
  },
  {
   "cell_type": "code",
   "execution_count": null,
   "id": "307cd674-2282-49ef-8dbc-ac662b92b020",
   "metadata": {},
   "outputs": [],
   "source": [
    "darkFile = '/home/beams/S1IDUSER/mnt/orthros/PUP_AFRL_Dec14_data/GE/dark_0pt3s_00025.ge3'\n",
    "\n",
    "print(f\"Reading dark file from {darkFile} ... \")\n",
    "dark = ge_raw2array(darkFile, skip_frm=0).mean(axis=0).astype(np.float32)"
   ]
  },
  {
   "cell_type": "code",
   "execution_count": null,
   "id": "0f590cef-6343-4e56-a03f-e0806d027c87",
   "metadata": {},
   "outputs": [],
   "source": [
    "outDir = '/net/wolf/data/tmp_data_ti7_14/'\n",
    "\n",
    "i = 1\n",
    "\n",
    "for key in ti7FilesDict4Idx:\n",
    "    if ti7FilesDict4Idx[key] in [654, 449, 751]:\n",
    "        continue\n",
    "    if ti7FilesDict4Idx[key] >= 151 and ti7FilesDict4Idx[key] <= 758:\n",
    "        print(f\"The input file is {key}\")\n",
    "        outFile = outDir + key[:-3] + \"h5\"\n",
    "        print(f\"The output file is {outFile}\")\n",
    "        if os.path.isfile(outFile):\n",
    "            print(f'{outFile} alaredy exists, go for next'):\n",
    "            continue\n",
    "        print(f\"Start to generate patches for file {key} ({i}/{len(ti7FilesDict4Idx)})...\")\n",
    "        ge_raw2patch(gefname=dataDir+'/'+key, ofn=outFile, dark=dark, \n",
    "                     bkgd=100, psz=15, skip_frm=0, min_intensity=0, max_r=None)\n",
    "        print(f\"Done generating patches for file {key} ({i}/{len(ti7FilesDict4Idx)})...\")\n",
    "        i += 1"
   ]
  },
  {
   "cell_type": "code",
   "execution_count": null,
   "id": "46bf7ca5-0233-4ce6-a5db-b988fb90b1ee",
   "metadata": {},
   "outputs": [],
   "source": []
  },
  {
   "cell_type": "code",
   "execution_count": null,
   "id": "381571e3-e1c6-4898-947c-d299d6feecf9",
   "metadata": {},
   "outputs": [],
   "source": []
  }
 ],
 "metadata": {
  "kernelspec": {
   "display_name": "Python 3 (ipykernel)",
   "language": "python",
   "name": "python3"
  },
  "language_info": {
   "codemirror_mode": {
    "name": "ipython",
    "version": 3
   },
   "file_extension": ".py",
   "mimetype": "text/x-python",
   "name": "python",
   "nbconvert_exporter": "python",
   "pygments_lexer": "ipython3",
   "version": "3.9.17"
  }
 },
 "nbformat": 4,
 "nbformat_minor": 5
}
