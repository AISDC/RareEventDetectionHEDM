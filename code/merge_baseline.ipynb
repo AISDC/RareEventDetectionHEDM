{
 "cells": [
  {
   "cell_type": "code",
   "execution_count": 1,
   "id": "4901ce1d",
   "metadata": {},
   "outputs": [],
   "source": [
    "# this notesbook is used to control which datasets should be the baseline datasets\n",
    "# it works as follows: \n",
    "# first user can cp all baseline datasets to a new folder \n",
    "# then user can provide a name for the new merged baseline dataset"
   ]
  },
  {
   "cell_type": "code",
   "execution_count": 2,
   "id": "51376019",
   "metadata": {},
   "outputs": [],
   "source": [
    "# this code works as follows:\n",
    "# step1: go to the folder that contains all baseline datasets and search all files\n",
    "# step2: this program can then merge all datasets in the new folder and create a new dataset"
   ]
  },
  {
   "cell_type": "code",
   "execution_count": 3,
   "id": "f167811a",
   "metadata": {},
   "outputs": [
    {
     "data": {
      "text/plain": [
       "['park_ss_ff_0MPa_000315.edf.h5',\n",
       " 'park_ss_ff_0MPa_000316.edf.h5',\n",
       " 'park_ss_ff_0MPa_000317.edf.h5',\n",
       " 'park_ss_ff_0MPa_000318.edf.h5',\n",
       " 'park_ss_ff3_000345.edf.h5',\n",
       " 'park_ss_ff3_000348.edf.h5',\n",
       " 'park_ss_ff3_000351.edf.h5',\n",
       " 'park_ss_ff3_000354.edf.h5',\n",
       " 'park_ss_ff3_000357.edf.h5',\n",
       " 'park_ss_ff3_000360.edf.h5',\n",
       " 'park_ss_ff3_000363.edf.h5',\n",
       " 'park_ss_ff3_000366.edf.h5',\n",
       " 'park_ss_ff3_000369.edf.h5',\n",
       " 'park_ss_ff3_000372.edf.h5']"
      ]
     },
     "execution_count": 3,
     "metadata": {},
     "output_type": "execute_result"
    }
   ],
   "source": [
    "# go to the folder that contains all baseline datasets:\n",
    "import os\n",
    "\n",
    "dataDir = '/home/beams/WZHENG/EventDetection/rareEventHEDM_v1/baseline_datasets/'\n",
    "\n",
    "listFiles = os.listdir(dataDir)\n",
    "listFiles"
   ]
  },
  {
   "cell_type": "code",
   "execution_count": 4,
   "id": "4d4af90b",
   "metadata": {},
   "outputs": [
    {
     "name": "stdout",
     "output_type": "stream",
     "text": [
      "14 datasets will be concatenated\n",
      "concatenated 2 datasets\n",
      "concatenated 3 datasets\n",
      "concatenated 4 datasets\n",
      "concatenated 5 datasets\n",
      "concatenated 6 datasets\n",
      "concatenated 7 datasets\n",
      "concatenated 8 datasets\n",
      "concatenated 9 datasets\n",
      "concatenated 10 datasets\n",
      "concatenated 11 datasets\n",
      "concatenated 12 datasets\n",
      "concatenated 13 datasets\n",
      "concatenated 14 datasets\n"
     ]
    }
   ],
   "source": [
    "from src.datasets.ge2patch import *\n",
    "\n",
    "newName = '../park_ss_ff_000315_372.edf.h5'\n",
    "\n",
    "test = concatenate_patches(dataDir, listFiles, newName)"
   ]
  },
  {
   "cell_type": "code",
   "execution_count": null,
   "id": "5c3ff486",
   "metadata": {},
   "outputs": [],
   "source": [
    "# now we can start to train the embedding model:\n",
    "# python main.py -ih5 '/home/beams/WZHENG/EventDetection/park_ff_patch_dir/park_ss_ff3_000316_318.edf.h5'\n",
    "# rename the model to 'park_316_318.pth' and save it to the path '../modelTraned'\n",
    "# mv script-ep00100.pth park_316_318.pth \n",
    "# cp park_316_318.pth ../../EventDetection/modelTrained/"
   ]
  },
  {
   "cell_type": "code",
   "execution_count": null,
   "id": "f110a34c",
   "metadata": {},
   "outputs": [],
   "source": [
    "# now start to run experiments:\n",
    "# cd ../../EventDetection/rareEventHEDM_v1/\n",
    "# mkdir parameter_test_results\n",
    "# "
   ]
  }
 ],
 "metadata": {
  "kernelspec": {
   "display_name": "Python 3 (ipykernel)",
   "language": "python",
   "name": "python3"
  },
  "language_info": {
   "codemirror_mode": {
    "name": "ipython",
    "version": 3
   },
   "file_extension": ".py",
   "mimetype": "text/x-python",
   "name": "python",
   "nbconvert_exporter": "python",
   "pygments_lexer": "ipython3",
   "version": "3.1.undefined"
  }
 },
 "nbformat": 4,
 "nbformat_minor": 5
}
