{
 "cells": [
  {
   "cell_type": "code",
   "execution_count": 11,
   "id": "7ac9c4aa-b864-468e-8a07-9772903587cf",
   "metadata": {},
   "outputs": [
    {
     "data": {
      "text/plain": [
       "['park_ss_ff_0MPa_000315.edf.ge5',\n",
       " 'dark_after_000313.edf.ge5',\n",
       " 'dark_before_000320.edf.ge5']"
      ]
     },
     "execution_count": 11,
     "metadata": {},
     "output_type": "execute_result"
    }
   ],
   "source": [
    "import os\n",
    "\n",
    "dataDir = '../../example_dataset/raw/'\n",
    "\n",
    "listFiles = os.listdir(dataDir)\n",
    "listFiles"
   ]
  },
  {
   "cell_type": "code",
   "execution_count": 12,
   "id": "5cb16d2f-d4f5-4ac7-8bd5-5e872a3ed0c2",
   "metadata": {},
   "outputs": [
    {
     "data": {
      "text/plain": [
       "{320: 'dark_before_000320.edf.ge5'}"
      ]
     },
     "execution_count": 12,
     "metadata": {},
     "output_type": "execute_result"
    }
   ],
   "source": [
    "darkFilesList = []\n",
    "darkFilesDict = {}\n",
    "\n",
    "for fileString in listFiles:\n",
    "    if fileString.startswith('dark_before'):\n",
    "        # find the index of each dark before\n",
    "        idx = int(fileString[12:18])\n",
    "        #print(int(fileString[12:18]))\n",
    "        darkFilesDict[idx] = fileString\n",
    "\n",
    "darkFilesDict"
   ]
  },
  {
   "cell_type": "code",
   "execution_count": 13,
   "id": "2ff2f5cf-d42b-4ba0-b2d9-e7acdb4a0dd5",
   "metadata": {},
   "outputs": [
    {
     "data": {
      "text/plain": [
       "{320: 'dark_before_000320.edf.ge5'}"
      ]
     },
     "execution_count": 13,
     "metadata": {},
     "output_type": "execute_result"
    }
   ],
   "source": [
    "darkFilesDict"
   ]
  },
  {
   "cell_type": "code",
   "execution_count": 14,
   "id": "234fc77f-d141-4e11-9646-e834a230471e",
   "metadata": {},
   "outputs": [
    {
     "data": {
      "text/plain": [
       "[320]"
      ]
     },
     "execution_count": 14,
     "metadata": {},
     "output_type": "execute_result"
    }
   ],
   "source": [
    "darkFilesKeys = sorted(darkFilesDict)\n",
    "darkFilesKeys"
   ]
  },
  {
   "cell_type": "code",
   "execution_count": 15,
   "id": "7bef27af-deda-484b-8f72-8526650eaaf0",
   "metadata": {},
   "outputs": [
    {
     "data": {
      "text/plain": [
       "{'park_ss_ff_0MPa_000315.edf.ge5': 315}"
      ]
     },
     "execution_count": 15,
     "metadata": {},
     "output_type": "execute_result"
    }
   ],
   "source": [
    "parkFilesList = []\n",
    "parkFilesDict4Idx = {}\n",
    "\n",
    "# park_ss_ff\n",
    "\n",
    "for fileString in listFiles:\n",
    "    if fileString.startswith('park_ss_ff'):\n",
    "        # find the index of each file\n",
    "        x = fileString.split(\"_\")\n",
    "        idx = int(x[-1].split(\".\")[0])\n",
    "        parkFilesDict4Idx[fileString] = idx\n",
    "#         idx = int(fileString[12:18])\n",
    "#         #print(int(fileString[12:18]))\n",
    "#         darkFilesDict[idx] = fileString\n",
    "#         darkFiles.append(fileString)\n",
    "\n",
    "# \n",
    "parkFilesDict4Idx "
   ]
  },
  {
   "cell_type": "code",
   "execution_count": 16,
   "id": "f2075139-dc3a-4c3c-9581-614602677d54",
   "metadata": {},
   "outputs": [
    {
     "name": "stdout",
     "output_type": "stream",
     "text": [
      "315-320\n"
     ]
    },
    {
     "data": {
      "text/plain": [
       "{'park_ss_ff_0MPa_000315.edf.ge5': 'dark_before_000320.edf.ge5'}"
      ]
     },
     "execution_count": 16,
     "metadata": {},
     "output_type": "execute_result"
    }
   ],
   "source": [
    "# next is to find the dark files for each file\n",
    "darkFilesDict4Idx = {}\n",
    "\n",
    "# park_ss_ff\n",
    "\n",
    "for fileString in listFiles:\n",
    "    if fileString.startswith('park_ss_ff'):\n",
    "        # find the index of each file\n",
    "        x = fileString.split(\"_\")\n",
    "        idx = int(x[-1].split(\".\")[0])\n",
    "        # next is to find the corresponding dark file\n",
    "        for darkKey in darkFilesKeys:\n",
    "            if darkKey >= idx:\n",
    "                print(str(idx) + \"-\" + str(darkKey))\n",
    "                darkFilesDict4Idx[fileString] = darkFilesDict[darkKey]\n",
    "                break\n",
    "\n",
    "darkFilesDict4Idx"
   ]
  },
  {
   "cell_type": "code",
   "execution_count": 17,
   "id": "962721c1-6893-43b2-b75b-bc1f4161174b",
   "metadata": {},
   "outputs": [],
   "source": [
    "# now start to convert ge5 files to patches\n",
    "from src.datasets.ge2patch import *"
   ]
  },
  {
   "cell_type": "code",
   "execution_count": 19,
   "id": "a8def848-9401-4891-8d3f-5b48260f08e1",
   "metadata": {},
   "outputs": [
    {
     "name": "stdout",
     "output_type": "stream",
     "text": [
      "Reading dark file from ../../example_dataset/raw/dark_before_000320.edf.ge5 ... \n",
      "Done with reading dark file from ../../example_dataset/raw/dark_before_000320.edf.ge5 with [[1650.  1658.3 1656.7 ... 1834.6 1833.4 1829.5]\n",
      " [1669.9 1674.9 1672.5 ... 1825.7 1823.8 1823.2]\n",
      " [1678.2 1682.4 1679.8 ... 1834.1 1833.8 1830.6]\n",
      " ...\n",
      " [1678.5 1679.1 1681.8 ... 1736.2 1736.3 1734.8]\n",
      " [1672.6 1670.8 1673.  ... 1730.7 1730.  1726.8]\n",
      " [1635.5 1635.6 1633.9 ... 1701.5 1700.3 1699.2]]\n",
      "The input file is park_ss_ff_0MPa_000315.edf.ge5\n",
      "The output file is ../../example_dataset/test_patch_folder/park_ss_ff_0MPa_000315.edf.h5\n",
      "Start to generate patches for file park_ss_ff_0MPa_000315.edf.ge5 (1/1)...\n",
      "47697 patches of size 15 cropped from ../../example_dataset/raw/park_ss_ff_0MPa_000315.edf.ge5, 0 are too big.\n",
      "Done generating patches for file park_ss_ff_0MPa_000315.edf.ge5 (1/1)...\n"
     ]
    }
   ],
   "source": [
    "outDir = '../../example_dataset/test_patch_folder/'\n",
    "\n",
    "i = 1\n",
    "\n",
    "for key in darkFilesDict4Idx:\n",
    "    print(f\"Reading dark file from {dataDir+darkFilesDict4Idx[key]} ... \")\n",
    "    dark = ge_raw2array(dataDir+darkFilesDict4Idx[key], skip_frm=0).mean(axis=0).astype(np.float32)\n",
    "    print(f\"Done with reading dark file from {dataDir+darkFilesDict4Idx[key]} with {dark}\")\n",
    "    print(f\"The input file is {key}\")\n",
    "    outFile = outDir + key[:-3] + \"h5\"\n",
    "    print(f\"The output file is {outFile}\")\n",
    "    print(f\"Start to generate patches for file {key} ({i}/{len(darkFilesDict4Idx)})...\")\n",
    "    ge_raw2patch(gefname=dataDir+key, ofn=outFile, dark=dark, \n",
    "                 bkgd=100, psz=15, skip_frm=0, min_intensity=0, max_r=None)\n",
    "    print(f\"Done generating patches for file {key} ({i}/{len(darkFilesDict4Idx)})...\")\n",
    "    i += 1"
   ]
  },
  {
   "cell_type": "code",
   "execution_count": null,
   "id": "207af153-eab3-45db-8aac-516c5d3abc68",
   "metadata": {},
   "outputs": [],
   "source": []
  },
  {
   "cell_type": "code",
   "execution_count": null,
   "id": "c27ef73a-e6c4-4958-9359-b503d62c4615",
   "metadata": {},
   "outputs": [],
   "source": []
  }
 ],
 "metadata": {
  "kernelspec": {
   "display_name": "Python 3 (ipykernel)",
   "language": "python",
   "name": "python3"
  },
  "language_info": {
   "codemirror_mode": {
    "name": "ipython",
    "version": 3
   },
   "file_extension": ".py",
   "mimetype": "text/x-python",
   "name": "python",
   "nbconvert_exporter": "python",
   "pygments_lexer": "ipython3",
   "version": "3.9.20"
  }
 },
 "nbformat": 4,
 "nbformat_minor": 5
}
