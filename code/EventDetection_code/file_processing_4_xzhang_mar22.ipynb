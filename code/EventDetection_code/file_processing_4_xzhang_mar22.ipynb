{
 "cells": [
  {
   "cell_type": "code",
   "execution_count": 1,
   "id": "1a20a7ac",
   "metadata": {},
   "outputs": [
    {
     "data": {
      "text/plain": [
       "['Fe9Cr_61116_stage1_ff_000120.edf.ge5',\n",
       " 'Fe9Cr_61116_stage1_ff_000118.edf.ge5',\n",
       " 'dark_before_000128.edf.ge5',\n",
       " 'dark_before_000117.edf.ge5',\n",
       " 'dark_before_000023.edf.ge5',\n",
       " 'dark_before_000137.edf.ge5',\n",
       " 'Fe9Cr_61116_stage1_ff_000119.edf.ge5',\n",
       " 'dark_before_000122.edf.ge5',\n",
       " 'dark_before_000010.edf.ge5']"
      ]
     },
     "execution_count": 1,
     "metadata": {},
     "output_type": "execute_result"
    }
   ],
   "source": [
    "import os\n",
    "\n",
    "dataDir = '/home/wzheng/globus_dest/xzhang_mar/'\n",
    "\n",
    "listFiles = os.listdir(dataDir)\n",
    "listFiles"
   ]
  },
  {
   "cell_type": "code",
   "execution_count": 2,
   "id": "1f8b81a4",
   "metadata": {},
   "outputs": [
    {
     "data": {
      "text/plain": [
       "{128: 'dark_before_000128.edf.ge5',\n",
       " 117: 'dark_before_000117.edf.ge5',\n",
       " 23: 'dark_before_000023.edf.ge5',\n",
       " 137: 'dark_before_000137.edf.ge5',\n",
       " 122: 'dark_before_000122.edf.ge5',\n",
       " 10: 'dark_before_000010.edf.ge5'}"
      ]
     },
     "execution_count": 2,
     "metadata": {},
     "output_type": "execute_result"
    }
   ],
   "source": [
    "darkFilesList = []\n",
    "darkFilesDict = {}\n",
    "\n",
    "for fileString in listFiles:\n",
    "    if fileString.startswith('dark_before'):\n",
    "        # find the index of each dark before\n",
    "        idx = int(fileString[12:18])\n",
    "        #print(int(fileString[12:18]))\n",
    "        darkFilesDict[idx] = fileString\n",
    "\n",
    "darkFilesDict"
   ]
  },
  {
   "cell_type": "code",
   "execution_count": 3,
   "id": "d60df6c2",
   "metadata": {},
   "outputs": [
    {
     "data": {
      "text/plain": [
       "[10, 23, 117, 122, 128, 137]"
      ]
     },
     "execution_count": 3,
     "metadata": {},
     "output_type": "execute_result"
    }
   ],
   "source": [
    "darkFilesKeys = sorted(darkFilesDict)\n",
    "darkFilesKeys"
   ]
  },
  {
   "cell_type": "code",
   "execution_count": 4,
   "id": "0a11082b",
   "metadata": {},
   "outputs": [
    {
     "data": {
      "text/plain": [
       "{'Fe9Cr_61116_stage1_ff_000120.edf.ge5': 120,\n",
       " 'Fe9Cr_61116_stage1_ff_000118.edf.ge5': 118,\n",
       " 'Fe9Cr_61116_stage1_ff_000119.edf.ge5': 119}"
      ]
     },
     "execution_count": 4,
     "metadata": {},
     "output_type": "execute_result"
    }
   ],
   "source": [
    "fe9crFilesList = []\n",
    "fe9crFilesDict4Idx = {}\n",
    "\n",
    "# park_ss_ff\n",
    "\n",
    "for fileString in listFiles:\n",
    "    if fileString.startswith('Fe9Cr_61116'):\n",
    "        # find the index of each file\n",
    "        x = fileString.split(\"_\")\n",
    "        idx = int(x[-1].split(\".\")[0])\n",
    "        fe9crFilesDict4Idx[fileString] = idx\n",
    "#         idx = int(fileString[12:18])\n",
    "#         #print(int(fileString[12:18]))\n",
    "#         darkFilesDict[idx] = fileString\n",
    "#         darkFiles.append(fileString)\n",
    "\n",
    "# \n",
    "fe9crFilesDict4Idx "
   ]
  },
  {
   "cell_type": "code",
   "execution_count": 5,
   "id": "5fabd97f",
   "metadata": {},
   "outputs": [
    {
     "name": "stdout",
     "output_type": "stream",
     "text": [
      "120-122\n",
      "118-122\n",
      "119-122\n"
     ]
    },
    {
     "data": {
      "text/plain": [
       "{'Fe9Cr_61116_stage1_ff_000120.edf.ge5': 'dark_before_000122.edf.ge5',\n",
       " 'Fe9Cr_61116_stage1_ff_000118.edf.ge5': 'dark_before_000122.edf.ge5',\n",
       " 'Fe9Cr_61116_stage1_ff_000119.edf.ge5': 'dark_before_000122.edf.ge5'}"
      ]
     },
     "execution_count": 5,
     "metadata": {},
     "output_type": "execute_result"
    }
   ],
   "source": [
    "# next is to find the dark files for each file\n",
    "darkFilesDict4Idx = {}\n",
    "\n",
    "# park_ss_ff\n",
    "\n",
    "for fileString in listFiles:\n",
    "    if fileString.startswith('Fe9Cr_61116'):\n",
    "        # find the index of each file\n",
    "        x = fileString.split(\"_\")\n",
    "        idx = int(x[-1].split(\".\")[0])\n",
    "        # next is to find the corresponding dark file\n",
    "        for darkKey in darkFilesKeys:\n",
    "            if darkKey >= idx:\n",
    "                print(str(idx) + \"-\" + str(darkKey))\n",
    "                darkFilesDict4Idx[fileString] = darkFilesDict[darkKey]\n",
    "                break\n",
    "\n",
    "darkFilesDict4Idx"
   ]
  },
  {
   "cell_type": "code",
   "execution_count": 6,
   "id": "390d8b02",
   "metadata": {},
   "outputs": [
    {
     "data": {
      "text/plain": [
       "3"
      ]
     },
     "execution_count": 6,
     "metadata": {},
     "output_type": "execute_result"
    }
   ],
   "source": [
    "len(darkFilesDict4Idx)"
   ]
  },
  {
   "cell_type": "code",
   "execution_count": 7,
   "id": "4a2e5e4f",
   "metadata": {},
   "outputs": [],
   "source": [
    "# now start to convert ge5 files to patches\n",
    "from src.datasets.ge2patch import *"
   ]
  },
  {
   "cell_type": "code",
   "execution_count": 8,
   "id": "569ead86",
   "metadata": {},
   "outputs": [
    {
     "name": "stdout",
     "output_type": "stream",
     "text": [
      "Reading dark file from /home/wzheng/globus_dest/xzhang_mar/dark_before_000122.edf.ge5 ... \n",
      "Done with reading dark file from /home/wzheng/globus_dest/xzhang_mar/dark_before_000122.edf.ge5 with [[1650.2 1658.5 1658.7 ... 1835.7 1833.8 1831.1]\n",
      " [1668.4 1675.  1672.4 ... 1826.1 1824.9 1823.4]\n",
      " [1678.1 1682.2 1680.4 ... 1833.8 1834.3 1831.8]\n",
      " ...\n",
      " [1679.4 1680.4 1682.1 ... 1736.8 1734.6 1735.2]\n",
      " [1672.7 1671.2 1671.9 ... 1731.4 1730.9 1727.9]\n",
      " [1637.1 1636.  1633.3 ... 1701.4 1700.7 1699.7]]\n",
      "The input file is Fe9Cr_61116_stage1_ff_000120.edf.ge5\n",
      "The output file is /home/wzheng/fe9cr_patches/Fe9Cr_61116_stage1_ff_000120.edf.h5\n",
      "Start to generate patches for file Fe9Cr_61116_stage1_ff_000120.edf.ge5 (1/3)...\n",
      "data in the file are not completely parsed, 6545408 left over\n",
      "66480 patches of size 15 cropped from /home/wzheng/globus_dest/xzhang_mar/Fe9Cr_61116_stage1_ff_000120.edf.ge5, 70580 are too big.\n",
      "Done generating patches for file Fe9Cr_61116_stage1_ff_000120.edf.ge5 (1/3)...\n",
      "Reading dark file from /home/wzheng/globus_dest/xzhang_mar/dark_before_000122.edf.ge5 ... \n",
      "Done with reading dark file from /home/wzheng/globus_dest/xzhang_mar/dark_before_000122.edf.ge5 with [[1650.2 1658.5 1658.7 ... 1835.7 1833.8 1831.1]\n",
      " [1668.4 1675.  1672.4 ... 1826.1 1824.9 1823.4]\n",
      " [1678.1 1682.2 1680.4 ... 1833.8 1834.3 1831.8]\n",
      " ...\n",
      " [1679.4 1680.4 1682.1 ... 1736.8 1734.6 1735.2]\n",
      " [1672.7 1671.2 1671.9 ... 1731.4 1730.9 1727.9]\n",
      " [1637.1 1636.  1633.3 ... 1701.4 1700.7 1699.7]]\n",
      "The input file is Fe9Cr_61116_stage1_ff_000118.edf.ge5\n",
      "The output file is /home/wzheng/fe9cr_patches/Fe9Cr_61116_stage1_ff_000118.edf.h5\n",
      "Start to generate patches for file Fe9Cr_61116_stage1_ff_000118.edf.ge5 (2/3)...\n",
      "data in the file are not completely parsed, 253952 left over\n",
      "69453 patches of size 15 cropped from /home/wzheng/globus_dest/xzhang_mar/Fe9Cr_61116_stage1_ff_000118.edf.ge5, 69939 are too big.\n",
      "Done generating patches for file Fe9Cr_61116_stage1_ff_000118.edf.ge5 (2/3)...\n",
      "Reading dark file from /home/wzheng/globus_dest/xzhang_mar/dark_before_000122.edf.ge5 ... \n",
      "Done with reading dark file from /home/wzheng/globus_dest/xzhang_mar/dark_before_000122.edf.ge5 with [[1650.2 1658.5 1658.7 ... 1835.7 1833.8 1831.1]\n",
      " [1668.4 1675.  1672.4 ... 1826.1 1824.9 1823.4]\n",
      " [1678.1 1682.2 1680.4 ... 1833.8 1834.3 1831.8]\n",
      " ...\n",
      " [1679.4 1680.4 1682.1 ... 1736.8 1734.6 1735.2]\n",
      " [1672.7 1671.2 1671.9 ... 1731.4 1730.9 1727.9]\n",
      " [1637.1 1636.  1633.3 ... 1701.4 1700.7 1699.7]]\n",
      "The input file is Fe9Cr_61116_stage1_ff_000119.edf.ge5\n",
      "The output file is /home/wzheng/fe9cr_patches/Fe9Cr_61116_stage1_ff_000119.edf.h5\n",
      "Start to generate patches for file Fe9Cr_61116_stage1_ff_000119.edf.ge5 (3/3)...\n",
      "81350 patches of size 15 cropped from /home/wzheng/globus_dest/xzhang_mar/Fe9Cr_61116_stage1_ff_000119.edf.ge5, 83481 are too big.\n",
      "Done generating patches for file Fe9Cr_61116_stage1_ff_000119.edf.ge5 (3/3)...\n"
     ]
    }
   ],
   "source": [
    "# need to create the following dir first\n",
    "outDir = '/home/wzheng/fe9cr_patches/'\n",
    "\n",
    "i = 1\n",
    "\n",
    "for key in darkFilesDict4Idx:\n",
    "    print(f\"Reading dark file from {dataDir+darkFilesDict4Idx[key]} ... \")\n",
    "    dark = ge_raw2array(dataDir+darkFilesDict4Idx[key], skip_frm=0).mean(axis=0).astype(np.float32)\n",
    "    print(f\"Done with reading dark file from {dataDir+darkFilesDict4Idx[key]} with {dark}\")\n",
    "    print(f\"The input file is {key}\")\n",
    "    outFile = outDir + key[:-3] + \"h5\"\n",
    "    print(f\"The output file is {outFile}\")\n",
    "    print(f\"Start to generate patches for file {key} ({i}/{len(darkFilesDict4Idx)})...\")\n",
    "    ge_raw2patch(gefname=dataDir+key, ofn=outFile, dark=dark, \n",
    "                 bkgd=100, psz=15, skip_frm=0, min_intensity=0, max_r=None)\n",
    "    print(f\"Done generating patches for file {key} ({i}/{len(darkFilesDict4Idx)})...\")\n",
    "    i += 1"
   ]
  },
  {
   "cell_type": "code",
   "execution_count": null,
   "id": "ec615171",
   "metadata": {},
   "outputs": [],
   "source": []
  }
 ],
 "metadata": {
  "kernelspec": {
   "display_name": "Python 3 (ipykernel)",
   "language": "python",
   "name": "python3"
  },
  "language_info": {
   "codemirror_mode": {
    "name": "ipython",
    "version": 3
   },
   "file_extension": ".py",
   "mimetype": "text/x-python",
   "name": "python",
   "nbconvert_exporter": "python",
   "pygments_lexer": "ipython3",
   "version": "3.9.15"
  }
 },
 "nbformat": 4,
 "nbformat_minor": 5
}
