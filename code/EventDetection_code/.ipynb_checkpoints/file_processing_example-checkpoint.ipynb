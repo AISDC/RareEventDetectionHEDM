{
 "cells": [
  {
   "cell_type": "code",
   "execution_count": 1,
   "id": "7ac9c4aa-b864-468e-8a07-9772903587cf",
   "metadata": {},
   "outputs": [
    {
     "data": {
      "text/plain": [
       "['park_ss_ff_0MPa_000315.edf.ge5',\n",
       " 'dark_after_000313.edf.ge5',\n",
       " 'dark_before_000320.edf.ge5']"
      ]
     },
     "execution_count": 1,
     "metadata": {},
     "output_type": "execute_result"
    }
   ],
   "source": [
    "import os\n",
    "\n",
    "dataDir = '../../example_dataset/raw'\n",
    "\n",
    "listFiles = os.listdir(dataDir)\n",
    "listFiles"
   ]
  },
  {
   "cell_type": "code",
   "execution_count": 3,
   "id": "5cb16d2f-d4f5-4ac7-8bd5-5e872a3ed0c2",
   "metadata": {},
   "outputs": [
    {
     "data": {
      "text/plain": [
       "{320: 'dark_before_000320.edf.ge5'}"
      ]
     },
     "execution_count": 3,
     "metadata": {},
     "output_type": "execute_result"
    }
   ],
   "source": [
    "darkFilesList = []\n",
    "darkFilesDict = {}\n",
    "\n",
    "for fileString in listFiles:\n",
    "    if fileString.startswith('dark_before'):\n",
    "        # find the index of each dark before\n",
    "        idx = int(fileString[12:18])\n",
    "        #print(int(fileString[12:18]))\n",
    "        darkFilesDict[idx] = fileString\n",
    "\n",
    "darkFilesDict"
   ]
  },
  {
   "cell_type": "code",
   "execution_count": 4,
   "id": "2ff2f5cf-d42b-4ba0-b2d9-e7acdb4a0dd5",
   "metadata": {},
   "outputs": [
    {
     "data": {
      "text/plain": [
       "{320: 'dark_before_000320.edf.ge5'}"
      ]
     },
     "execution_count": 4,
     "metadata": {},
     "output_type": "execute_result"
    }
   ],
   "source": [
    "darkFilesDict"
   ]
  },
  {
   "cell_type": "code",
   "execution_count": 5,
   "id": "234fc77f-d141-4e11-9646-e834a230471e",
   "metadata": {},
   "outputs": [
    {
     "data": {
      "text/plain": [
       "[320]"
      ]
     },
     "execution_count": 5,
     "metadata": {},
     "output_type": "execute_result"
    }
   ],
   "source": [
    "darkFilesKeys = sorted(darkFilesDict)\n",
    "darkFilesKeys"
   ]
  },
  {
   "cell_type": "code",
   "execution_count": 6,
   "id": "7bef27af-deda-484b-8f72-8526650eaaf0",
   "metadata": {},
   "outputs": [
    {
     "data": {
      "text/plain": [
       "{'park_ss_ff_0MPa_000315.edf.ge5': 315}"
      ]
     },
     "execution_count": 6,
     "metadata": {},
     "output_type": "execute_result"
    }
   ],
   "source": [
    "parkFilesList = []\n",
    "parkFilesDict4Idx = {}\n",
    "\n",
    "# park_ss_ff\n",
    "\n",
    "for fileString in listFiles:\n",
    "    if fileString.startswith('park_ss_ff'):\n",
    "        # find the index of each file\n",
    "        x = fileString.split(\"_\")\n",
    "        idx = int(x[-1].split(\".\")[0])\n",
    "        parkFilesDict4Idx[fileString] = idx\n",
    "#         idx = int(fileString[12:18])\n",
    "#         #print(int(fileString[12:18]))\n",
    "#         darkFilesDict[idx] = fileString\n",
    "#         darkFiles.append(fileString)\n",
    "\n",
    "# \n",
    "parkFilesDict4Idx "
   ]
  },
  {
   "cell_type": "code",
   "execution_count": 7,
   "id": "f2075139-dc3a-4c3c-9581-614602677d54",
   "metadata": {},
   "outputs": [
    {
     "name": "stdout",
     "output_type": "stream",
     "text": [
      "315-320\n"
     ]
    },
    {
     "data": {
      "text/plain": [
       "{'park_ss_ff_0MPa_000315.edf.ge5': 'dark_before_000320.edf.ge5'}"
      ]
     },
     "execution_count": 7,
     "metadata": {},
     "output_type": "execute_result"
    }
   ],
   "source": [
    "# next is to find the dark files for each file\n",
    "darkFilesDict4Idx = {}\n",
    "\n",
    "# park_ss_ff\n",
    "\n",
    "for fileString in listFiles:\n",
    "    if fileString.startswith('park_ss_ff'):\n",
    "        # find the index of each file\n",
    "        x = fileString.split(\"_\")\n",
    "        idx = int(x[-1].split(\".\")[0])\n",
    "        # next is to find the corresponding dark file\n",
    "        for darkKey in darkFilesKeys:\n",
    "            if darkKey >= idx:\n",
    "                print(str(idx) + \"-\" + str(darkKey))\n",
    "                darkFilesDict4Idx[fileString] = darkFilesDict[darkKey]\n",
    "                break\n",
    "\n",
    "darkFilesDict4Idx"
   ]
  },
  {
   "cell_type": "code",
   "execution_count": 8,
   "id": "962721c1-6893-43b2-b75b-bc1f4161174b",
   "metadata": {},
   "outputs": [
    {
     "ename": "ModuleNotFoundError",
     "evalue": "No module named 'cv2'",
     "output_type": "error",
     "traceback": [
      "\u001b[0;31m---------------------------------------------------------------------------\u001b[0m",
      "\u001b[0;31mModuleNotFoundError\u001b[0m                       Traceback (most recent call last)",
      "Cell \u001b[0;32mIn[8], line 2\u001b[0m\n\u001b[1;32m      1\u001b[0m \u001b[38;5;66;03m# now start to convert ge5 files to patches\u001b[39;00m\n\u001b[0;32m----> 2\u001b[0m \u001b[38;5;28;01mfrom\u001b[39;00m \u001b[38;5;21;01msrc\u001b[39;00m\u001b[38;5;21;01m.\u001b[39;00m\u001b[38;5;21;01mdatasets\u001b[39;00m\u001b[38;5;21;01m.\u001b[39;00m\u001b[38;5;21;01mge2patch\u001b[39;00m \u001b[38;5;28;01mimport\u001b[39;00m \u001b[38;5;241m*\u001b[39m\n",
      "File \u001b[0;32m~/RareEventDetectionHEDM/code/EventDetection_code/src/datasets/ge2patch.py:7\u001b[0m\n\u001b[1;32m      1\u001b[0m \u001b[38;5;124;03m\"\"\"\u001b[39;00m\n\u001b[1;32m      2\u001b[0m \u001b[38;5;124;03mread data from h5 files, find the peak,\u001b[39;00m\n\u001b[1;32m      3\u001b[0m \u001b[38;5;124;03mreturn a list of patches in a h5 file\u001b[39;00m\n\u001b[1;32m      4\u001b[0m \n\u001b[1;32m      5\u001b[0m \u001b[38;5;124;03m\"\"\"\u001b[39;00m\n\u001b[0;32m----> 7\u001b[0m \u001b[38;5;28;01mimport\u001b[39;00m \u001b[38;5;21;01margparse\u001b[39;00m\u001b[38;5;241m,\u001b[39m \u001b[38;5;21;01mos\u001b[39;00m\u001b[38;5;241m,\u001b[39m \u001b[38;5;21;01mtime\u001b[39;00m\u001b[38;5;241m,\u001b[39m \u001b[38;5;21;01mh5py\u001b[39;00m\u001b[38;5;241m,\u001b[39m \u001b[38;5;21;01mglob\u001b[39;00m\u001b[38;5;241m,\u001b[39m \u001b[38;5;21;01mcv2\u001b[39;00m\n\u001b[1;32m      8\u001b[0m \u001b[38;5;28;01mimport\u001b[39;00m \u001b[38;5;21;01mnumpy\u001b[39;00m \u001b[38;5;28;01mas\u001b[39;00m \u001b[38;5;21;01mnp\u001b[39;00m\n\u001b[1;32m      9\u001b[0m \u001b[38;5;28;01mimport\u001b[39;00m \u001b[38;5;21;01mpandas\u001b[39;00m \u001b[38;5;28;01mas\u001b[39;00m \u001b[38;5;21;01mpd\u001b[39;00m \n",
      "\u001b[0;31mModuleNotFoundError\u001b[0m: No module named 'cv2'"
     ]
    }
   ],
   "source": [
    "# now start to convert ge5 files to patches\n",
    "from src.datasets.ge2patch import *"
   ]
  },
  {
   "cell_type": "code",
   "execution_count": null,
   "id": "a8def848-9401-4891-8d3f-5b48260f08e1",
   "metadata": {},
   "outputs": [],
   "source": []
  }
 ],
 "metadata": {
  "kernelspec": {
   "display_name": "Python 3 (ipykernel)",
   "language": "python",
   "name": "python3"
  },
  "language_info": {
   "codemirror_mode": {
    "name": "ipython",
    "version": 3
   },
   "file_extension": ".py",
   "mimetype": "text/x-python",
   "name": "python",
   "nbconvert_exporter": "python",
   "pygments_lexer": "ipython3",
   "version": "3.9.20"
  }
 },
 "nbformat": 4,
 "nbformat_minor": 5
}
