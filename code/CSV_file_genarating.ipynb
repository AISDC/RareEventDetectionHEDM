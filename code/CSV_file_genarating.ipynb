{
 "cells": [
  {
   "cell_type": "code",
   "execution_count": null,
   "id": "4947dddf",
   "metadata": {},
   "outputs": [],
   "source": [
    "# this notebook is used to gnereate the csv files to visualize results\n",
    "# input: raw results generated from the code\n",
    "# output: a csv file of UQ scores only, all scans are ordered\n",
    "# modifield from jsd_score.ipynb\n",
    "# three variables thats needs to be changed every time run this notebook:\n",
    "# results_name, baselineScaIdx, and output_name\n",
    "# please also comment or uncomment some code at block 8 for different tests"
   ]
  },
  {
   "cell_type": "code",
   "execution_count": null,
   "id": "59616426",
   "metadata": {},
   "outputs": [],
   "source": [
    "results_name = '/home/beams/WZHENG/EventDetection/rareEventHEDM_v1/d64/res-0.20-30.csv'\n",
    "baselineScanIdx = 375 # hard code here, change it for a new dataset\n",
    "output_name = 'lshr_d64_488_embed_488_04_30.csv'"
   ]
  },
  {
   "cell_type": "code",
   "execution_count": null,
   "id": "11c8dda0",
   "metadata": {},
   "outputs": [],
   "source": [
    "import csv\n",
    "import numpy as np\n",
    "from scipy.spatial import distance"
   ]
  },
  {
   "cell_type": "code",
   "execution_count": null,
   "id": "12b359b1",
   "metadata": {},
   "outputs": [],
   "source": [
    "# unrodered list of distribution, uq scores, and datasets (scans) list\n",
    "dist         = []\n",
    "uqResults    = []\n",
    "datasetsList = []"
   ]
  },
  {
   "cell_type": "code",
   "execution_count": null,
   "id": "969df863",
   "metadata": {},
   "outputs": [],
   "source": [
    "rowNumber = 0\n",
    "with open(results_name, newline='') as csvfile:\n",
    "    spamreader = csv.reader(csvfile, delimiter=' ', quotechar='|')\n",
    "    for row in spamreader:\n",
    "        if rowNumber >= 1:\n",
    "            distriTemp = []\n",
    "            x = row[0].split(\",\")\n",
    "            for i in range(len(x)-2):\n",
    "                distriTemp.append(float(x[i]))\n",
    "            uqResults.append(float(x[-2]))\n",
    "            dist.append(distriTemp)\n",
    "            datasetsList.append(x[-1])\n",
    "        rowNumber += 1"
   ]
  },
  {
   "cell_type": "code",
   "execution_count": null,
   "id": "f82933c6",
   "metadata": {},
   "outputs": [],
   "source": [
    "jsdResults  = []\n",
    "jsdIdxDict  = {}\n",
    "uqIdxDict   = {}\n",
    "nameIdxDict = {}\n",
    "presDict    = {}\n",
    "\n",
    "baseDist = dist[0]"
   ]
  },
  {
   "cell_type": "code",
   "execution_count": null,
   "id": "abc26099",
   "metadata": {},
   "outputs": [],
   "source": [
    "for i in range(len(uqResults)):\n",
    "    resultTmp = distance.jensenshannon(np.array(baseDist), np.array(dist[i]))\n",
    "    jsdResults.append(resultTmp)\n",
    "    if resultTmp == 0:\n",
    "        tmpIdx = baselineScanIdx\n",
    "    else: \n",
    "        tmpIdx = int(datasetsList[i].split(\".\")[0].split(\"_\")[-1])\n",
    "    jsdIdxDict[tmpIdx]  = resultTmp\n",
    "    uqIdxDict[tmpIdx]   = uqResults[i]\n",
    "    nameIdxDict[tmpIdx] = datasetsList[i]\n",
    "    # need to obtain the pressure info:\n",
    "    presDict[tmpIdx] = -10 # this is the adhoc for N.A. pressure\n",
    "    for tmpStr in datasetsList[i].split(\"_\"):\n",
    "        if 'mpa' in tmpStr.lower():\n",
    "            presDict[tmpIdx] = int(tmpStr[0:-3])\n",
    "            break\n",
    "        # if tmpStr.lower()[-1] == 'n':\n",
    "        #     presDict[tmpIdx] = int(tmpStr[0:-1])\n",
    "        #     break"
   ]
  },
  {
   "cell_type": "code",
   "execution_count": null,
   "id": "5fc70e70",
   "metadata": {},
   "outputs": [],
   "source": [
    "for key in presDict:\n",
    "    if presDict[key] == -10:\n",
    "        presDict[key] = 0"
   ]
  },
  {
   "cell_type": "code",
   "execution_count": null,
   "id": "7730a299",
   "metadata": {},
   "outputs": [],
   "source": [
    "presDict"
   ]
  },
  {
   "cell_type": "code",
   "execution_count": null,
   "id": "24ca399b",
   "metadata": {},
   "outputs": [],
   "source": [
    "sortedJSD  = []\n",
    "sortedIdx  = []\n",
    "sortedName = []\n",
    "sortedUQ   = []\n",
    "sortedPres = []\n",
    "\n",
    "for key in sorted(jsdIdxDict):\n",
    "    sortedIdx.append(key)\n",
    "    sortedJSD.append(jsdIdxDict[key])\n",
    "    sortedUQ.append(uqIdxDict[key])\n",
    "    sortedName.append(nameIdxDict[key])\n",
    "    sortedPres.append(presDict[key])"
   ]
  },
  {
   "cell_type": "code",
   "execution_count": null,
   "id": "7e21637e",
   "metadata": {},
   "outputs": [],
   "source": [
    "sortedIdx"
   ]
  },
  {
   "cell_type": "code",
   "execution_count": null,
   "id": "37399509",
   "metadata": {},
   "outputs": [],
   "source": [
    "# now start to write data back to CSV files"
   ]
  },
  {
   "cell_type": "code",
   "execution_count": null,
   "id": "d8a54b7d",
   "metadata": {},
   "outputs": [],
   "source": [
    "i = 0\n",
    "\n",
    "with open(output_name, 'w', newline='') as file:\n",
    "    writer = csv.writer(file)\n",
    "    writer.writerow(['ScanID', 'file name', 'loading size', 'UQ score', 'JSD score'])\n",
    "    for key in sortedIdx:\n",
    "        tmpRow = []\n",
    "        tmpRow.append(sortedIdx[i])\n",
    "        tmpRow.append(sortedName[i])\n",
    "        tmpRow.append(sortedPres[i])\n",
    "        tmpRow.append(sortedUQ[i])\n",
    "        tmpRow.append(sortedJSD[i])\n",
    "        i += 1\n",
    "        writer.writerow(tmpRow)"
   ]
  },
  {
   "cell_type": "code",
   "execution_count": null,
   "id": "3a2c7d01-a919-4718-af8b-36e7d5accbfe",
   "metadata": {},
   "outputs": [],
   "source": []
  },
  {
   "cell_type": "code",
   "execution_count": null,
   "id": "0ee2300b-85d4-435c-a135-d5dfb5fbf33a",
   "metadata": {},
   "outputs": [],
   "source": []
  }
 ],
 "metadata": {
  "kernelspec": {
   "display_name": "Python 3 (ipykernel)",
   "language": "python",
   "name": "python3"
  },
  "language_info": {
   "codemirror_mode": {
    "name": "ipython",
    "version": 3
   },
   "file_extension": ".py",
   "mimetype": "text/x-python",
   "name": "python",
   "nbconvert_exporter": "python",
   "pygments_lexer": "ipython3",
   "version": "3.9.17"
  }
 },
 "nbformat": 4,
 "nbformat_minor": 5
}
